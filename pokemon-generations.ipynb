{
 "cells": [
  {
   "cell_type": "code",
   "execution_count": 1,
   "metadata": {
    "collapsed": true
   },
   "outputs": [],
   "source": [
    "import pandas as pd\n",
    "import numpy as np"
   ]
  },
  {
   "cell_type": "markdown",
   "metadata": {},
   "source": [
    "Lets give each column a name, including `npn (National Pokedex Number)`"
   ]
  },
  {
   "cell_type": "code",
   "execution_count": 2,
   "metadata": {
    "collapsed": true
   },
   "outputs": [],
   "source": [
    "cols= ['npn','name','t1','t2','total','hp','attack','defense','sp_atk','sp_def','speed']\n",
    "data= pd.read_csv(\"Pokemon.csv\", names= cols, skiprows=[0]) \n",
    "#the original name uses # for npn! Never use symbols as column names!"
   ]
  },
  {
   "cell_type": "markdown",
   "metadata": {},
   "source": [
    "Let's add one more column of data- `Generation`. According to http://bulbapedia.bulbagarden.net/wiki/Regional_Pok%C3%A9dex -\n",
    "- Generation I Pokémon: #001 Bulbasaur - #151 Mew\n",
    "- Generation II Pokémon: #152 Chikorita - #251 Celebi\n",
    "- Generation III Pokémon: #252 Treecko - #386 Deoxys\n",
    "- Generation IV Pokémon: #387 Turtwig - #493 Arceus\n",
    "- Generation V Pokémon: #494 Victini - #649 Genesect\n",
    "- Generation VI Pokémon: #650 Chespin - #721 Volcanion"
   ]
  },
  {
   "cell_type": "code",
   "execution_count": 3,
   "metadata": {
    "collapsed": false
   },
   "outputs": [],
   "source": [
    "def generation(x):\n",
    "    if x<152:\n",
    "        return 1\n",
    "    elif x>151 and x<252:\n",
    "        return 2\n",
    "    elif x>251 and x<387:\n",
    "        return 3\n",
    "    elif x>386 and x<494:\n",
    "        return 4\n",
    "    elif x>493 and x<650:\n",
    "        return 5\n",
    "    elif x>649 and x<722:\n",
    "        return 6\n",
    "    else:\n",
    "        return 0\n",
    "data['gen']= map(generation,data.npn)"
   ]
  }
 ],
 "metadata": {
  "kernelspec": {
   "display_name": "Python [Root]",
   "language": "python",
   "name": "Python [Root]"
  },
  "language_info": {
   "codemirror_mode": {
    "name": "ipython",
    "version": 2
   },
   "file_extension": ".py",
   "mimetype": "text/x-python",
   "name": "python",
   "nbconvert_exporter": "python",
   "pygments_lexer": "ipython2",
   "version": "2.7.12"
  }
 },
 "nbformat": 4,
 "nbformat_minor": 0
}
