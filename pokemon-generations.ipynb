{
 "cells": [
  {
   "cell_type": "code",
   "execution_count": 1,
   "metadata": {
    "collapsed": true
   },
   "outputs": [],
   "source": [
    "import pandas as pd\n",
    "import numpy as np"
   ]
  },
  {
   "cell_type": "markdown",
   "metadata": {},
   "source": [
    "Lets give each column a name, including `npn-(National Pokedex Number)`"
   ]
  },
  {
   "cell_type": "code",
   "execution_count": 2,
   "metadata": {
    "collapsed": true
   },
   "outputs": [],
   "source": [
    "cols= ['npn','name','t1','t2','total','hp','attack','defense','sp_atk','sp_def','speed']\n",
    "data= pd.read_csv(\"Pokemon.csv\", names= cols, skiprows=[0]) \n",
    "#the original name uses \"#\" for npn! Never use symbols as column names!"
   ]
  },
  {
   "cell_type": "markdown",
   "metadata": {},
   "source": [
    "Let's add one more column of data- `Generation`. According to http://bulbapedia.bulbagarden.net/wiki/Regional_Pok%C3%A9dex -\n",
    "- Generation I Pokémon: #001 Bulbasaur - #151 Mew\n",
    "- Generation II Pokémon: #152 Chikorita - #251 Celebi\n",
    "- Generation III Pokémon: #252 Treecko - #386 Deoxys\n",
    "- Generation IV Pokémon: #387 Turtwig - #493 Arceus\n",
    "- Generation V Pokémon: #494 Victini - #649 Genesect\n",
    "- Generation VI Pokémon: #650 Chespin - #721 Volcanion"
   ]
  },
  {
   "cell_type": "code",
   "execution_count": 3,
   "metadata": {
    "collapsed": false
   },
   "outputs": [],
   "source": [
    "def generation(x):\n",
    "    if x<152:\n",
    "        return 1\n",
    "    elif x>151 and x<252:\n",
    "        return 2\n",
    "    elif x>251 and x<387:\n",
    "        return 3\n",
    "    elif x>386 and x<494:\n",
    "        return 4\n",
    "    elif x>493 and x<650:\n",
    "        return 5\n",
    "    elif x>649 and x<722:\n",
    "        return 6\n",
    "    else:\n",
    "        return 0\n",
    "data['gen']= map(generation,data.npn)"
   ]
  },
  {
   "cell_type": "code",
   "execution_count": 4,
   "metadata": {
    "collapsed": false
   },
   "outputs": [
    {
     "data": {
      "text/plain": [
       "1    0.20750\n",
       "5    0.20625\n",
       "3    0.20000\n",
       "4    0.15125\n",
       "2    0.13250\n",
       "6    0.10250\n",
       "Name: gen, dtype: float64"
      ]
     },
     "execution_count": 4,
     "metadata": {},
     "output_type": "execute_result"
    }
   ],
   "source": [
    "data.gen.value_counts(normalize=True)"
   ]
  },
  {
   "cell_type": "code",
   "execution_count": 5,
   "metadata": {
    "collapsed": false
   },
   "outputs": [
    {
     "name": "stdout",
     "output_type": "stream",
     "text": [
      "Name = MewtwoMega Mewtwo X\n",
      "Total stats 780\n",
      "Mean of total of generation 1 is = 76.6385542169\n",
      "Name = HeracrossMega Heracross\n",
      "Total stats 600\n",
      "Mean of total of generation 2 is = 72.0283018868\n",
      "Name = GroudonPrimal Groudon\n",
      "Total stats 770\n",
      "Mean of total of generation 3 is = 81.625\n",
      "Name = GarchompMega Garchomp\n",
      "Total stats 700\n",
      "Mean of total of generation 4 is = 82.867768595\n",
      "Name = KyuremBlack Kyurem\n",
      "Total stats 700\n",
      "Mean of total of generation 5 is = 82.0666666667\n",
      "Name = DiancieMega Diancie\n",
      "Total stats 700\n",
      "Mean of total of generation 6 is = 75.8048780488\n"
     ]
    }
   ],
   "source": [
    "for i in range(1,7):\n",
    "    print \"Name =\",data.iloc[data[data['gen']==i].attack.idxmax(axis=1)][\"name\"]\n",
    "    print \"Total stats\", data.iloc[data[data['gen']==i].attack.idxmax(axis=1)][\"total\"]\n",
    "    print \"Mean of total of generation\" ,i, \"is =\",data[data['gen']==i][\"attack\"].mean()"
   ]
  },
  {
   "cell_type": "markdown",
   "metadata": {},
   "source": [
    "Lets see if the legendary pokemon have different stats than others-\n",
    "According to [Bulbapedia Legendary article](http://bulbapedia.bulbagarden.net/wiki/Legendary_Pok%C3%A9mon) -\n",
    "> Of the 760 Pokémon species, 38 are Legendary Pokémon (5%). Each released generation has introduced at least three Legendary Pokémon\n",
    "![legendary stats](https://raw.githubusercontent.com/chirag-jhamb/pokemon-analysis/master/img/legendary-stats.png)\n",
    "\n",
    "Now lets see the average stats of the pokemon-"
   ]
  },
  {
   "cell_type": "code",
   "execution_count": 6,
   "metadata": {
    "collapsed": false
   },
   "outputs": [],
   "source": [
    "D=(data.describe().iloc[1,2:8])"
   ]
  },
  {
   "cell_type": "code",
   "execution_count": 7,
   "metadata": {
    "collapsed": false
   },
   "outputs": [
    {
     "data": {
      "image/png": "[encoded data removed]",
      "text/plain": [
       "<matplotlib.figure.Figure at 0x7f2273f88250>"
      ]
     },
     "metadata": {},
     "output_type": "display_data"
    }
   ],
   "source": [
    "import matplotlib.pyplot as plt\n",
    "%matplotlib inline\n",
    "ax=D.plot(kind='bar',width = 0.9,color=['red','orange','yellow','blue','green','pink'])\n",
    "ax.spines['top'].set_visible(False)\n",
    "ax.spines['right'].set_visible(False)\n",
    "ax.spines['bottom'].set_visible(False)\n",
    "ax.spines['left'].set_visible(False)\n"
   ]
  },
  {
   "cell_type": "markdown",
   "metadata": {},
   "source": [
    "Obviously, legendary pokemons have different stats in the data, but since the dataset is too small, lets add a binary column `legendary` rather than removing these. True values would point to higher stats.\n",
    "Lets use [List of legendary pokemon](http://bulbapedia.bulbagarden.net/wiki/Legendary_Pok%C3%A9mon#List_of_Legendary_Pok.C3.A9mon) to classify."
   ]
  },
  {
   "cell_type": "code",
   "execution_count": 8,
   "metadata": {
    "collapsed": false
   },
   "outputs": [],
   "source": [
    "leg_npn=[144,145,146,150,243,244,245,249,250,377,378,379,380,381,382,383,384,386,385,480,481,482,483,484,485,486,487,491,492,493,494,638,639,640,641,642,643,644,645,646,716,717,718,719,720,721]\n",
    "def func_legendary(x):\n",
    "    if x in leg_npn:\n",
    "        return True\n",
    "    else:\n",
    "        return False\n",
    "data['legendary']= map(func_legendary,data.npn)"
   ]
  },
  {
   "cell_type": "code",
   "execution_count": null,
   "metadata": {
    "collapsed": true
   },
   "outputs": [],
   "source": []
  }
 ],
 "metadata": {
  "kernelspec": {
   "display_name": "Python [Root]",
   "language": "python",
   "name": "Python [Root]"
  },
  "language_info": {
   "codemirror_mode": {
    "name": "ipython",
    "version": 2
   },
   "file_extension": ".py",
   "mimetype": "text/x-python",
   "name": "python",
   "nbconvert_exporter": "python",
   "pygments_lexer": "ipython2",
   "version": "2.7.12"
  }
 },
 "nbformat": 4,
 "nbformat_minor": 0
}
